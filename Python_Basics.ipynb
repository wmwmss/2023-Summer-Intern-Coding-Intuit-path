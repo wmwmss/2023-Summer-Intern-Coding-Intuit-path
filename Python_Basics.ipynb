{
  "nbformat": 4,
  "nbformat_minor": 0,
  "metadata": {
    "colab": {
      "provenance": [],
      "authorship_tag": "ABX9TyPylzdqU2t0D2a5KUWYarq2",
      "include_colab_link": true
    },
    "kernelspec": {
      "name": "python3",
      "display_name": "Python 3"
    },
    "language_info": {
      "name": "python"
    }
  },
  "cells": [
    {
      "cell_type": "markdown",
      "metadata": {
        "id": "view-in-github",
        "colab_type": "text"
      },
      "source": [
        "<a href=\"https://colab.research.google.com/github/wmwmss/2023-Summer-Intern-Coding-Intuit-path/blob/master/Python_Basics.ipynb\" target=\"_parent\"><img src=\"https://colab.research.google.com/assets/colab-badge.svg\" alt=\"Open In Colab\"/></a>"
      ]
    },
    {
      "cell_type": "markdown",
      "source": [
        "#**Innovate 4 Impact**\n",
        "\n",
        "*Programming Basics Bootcamp (Python)*\n",
        "\n",
        "---\n",
        "\n",
        "\n",
        "### **What is programming?**\n",
        "\n",
        "Programming is the process of creating a set of instructions that tell a computer how to perform a task. (Khan Academy)\n",
        "\n",
        "### **Programming Fundamentals**\n",
        "**Three things:**\n",
        "1.   Do this, then do that\n",
        "\n",
        "2.   If a condition is true, do this; else, do that\n",
        "\n",
        "3.   Do this n times / Do this while a condition is true\n",
        "\n",
        "\n",
        "**Functions**\n",
        "\n",
        "Modularize the code, as black boxes, more readable and reusable\n"
      ],
      "metadata": {
        "id": "mCjji6q8vo-y"
      }
    },
    {
      "cell_type": "code",
      "source": [
        "# code example\n",
        "# intro.py\n",
        "\n",
        "name = 'Joe'\n",
        "age = 20\n",
        "major = 'CS'\n",
        "\n",
        "out = 'Hi, my name is ' + name + ', I am ' + str(age) + ' years old. And I study ' + major\n",
        "\n",
        "print(out)\n",
        "\n",
        "\n",
        "# using functions\n",
        "def introduction(name, age, major):\n",
        "    intro = 'Hi, my name is ' + name + ', I am ' + str(age) + ' years old. And I study ' + major\n",
        "    return intro\n",
        "\n",
        "print(introduction(name, age, major))"
      ],
      "metadata": {
        "id": "WNaVNx1ht5Xc"
      },
      "execution_count": null,
      "outputs": []
    },
    {
      "cell_type": "markdown",
      "source": [
        "\n",
        "**Learn Programming Resources**\n",
        "\n",
        "Documentation https://www.w3schools.com/python/default.asp\n",
        "\n",
        "Official Python Docs https://docs.python.org/3/\n",
        "\n",
        "Q&A https://stackoverflow.com/\n",
        "\n",
        "Videos https://www.youtube.com/channel/UC8butISFwT-Wl7EV0hUK0BQ\n",
        "\n",
        "Courses https://www.codecademy.com/\n",
        "\n",
        "Coding problems https://leetcode.com/\n",
        "\n",
        "CS roadmap https://roadmap.sh/computer-science\n",
        "\n",
        "More resources https://github.com/Dylan-Israel/ultimate-coding-resources"
      ],
      "metadata": {
        "id": "hq4XH2hzxbYc"
      }
    },
    {
      "cell_type": "code",
      "execution_count": null,
      "metadata": {
        "id": "lbnWpD71Twxg"
      },
      "outputs": [],
      "source": [
        "# Beginner Concepts\n",
        "# 1. Basic Syntax and Variables\n",
        "\n",
        "# Variable declaration\n",
        "integer_var = 10\n",
        "float_var = 10.5\n",
        "string_var = \"Hello, World!\"\n",
        "boolean_var = True\n",
        "\n",
        "# Print variables\n",
        "print(\"Integer:\", integer_var)\n",
        "print(\"Float:\", float_var)\n",
        "print(\"String:\", string_var)\n",
        "print(\"Boolean:\", boolean_var)\n"
      ]
    },
    {
      "cell_type": "code",
      "source": [
        "# 2. Control Structures\n",
        "# Conditional statements\n",
        "number = 7\n",
        "if number > 5:\n",
        "    print(\"The number is greater than 5\")\n",
        "elif number == 5:\n",
        "    print(\"The number is 5\")\n",
        "else:\n",
        "    print(\"The number is less than 5\")\n",
        "\n",
        "# Loops\n",
        "# For loop\n",
        "for i in range(5):\n",
        "    print(\"For loop iteration:\", i)\n",
        "\n",
        "# While loop\n",
        "count = 0\n",
        "while count < 5:\n",
        "    print(\"While loop count:\", count)\n",
        "    count += 1\n",
        "\n",
        "# List comprehension\n",
        "squares = [x**2 for x in range(5)]\n",
        "print(\"Squares:\", squares)\n"
      ],
      "metadata": {
        "id": "wXYNuVLZ-WJ5"
      },
      "execution_count": null,
      "outputs": []
    },
    {
      "cell_type": "code",
      "source": [
        "# 3. Functions\n",
        "# Defining a function\n",
        "def greet(name):\n",
        "    return f\"Hello, {name}!\"\n",
        "\n",
        "# Calling a function\n",
        "print(greet(\"Alice\"))\n",
        "\n",
        "# Lambda function\n",
        "square = lambda x: x**2\n",
        "print(\"Square of 3:\", square(3))\n"
      ],
      "metadata": {
        "id": "Jpa8CoTV-dcy"
      },
      "execution_count": null,
      "outputs": []
    },
    {
      "cell_type": "code",
      "source": [
        "# 4. Data Structures\n",
        "# Lists\n",
        "fruits = [\"apple\", \"banana\", \"cherry\"]\n",
        "print(\"Fruits:\", fruits)\n",
        "\n",
        "# Tuples\n",
        "point = (2, 3)\n",
        "print(\"Point:\", point)\n",
        "\n",
        "# Sets\n",
        "unique_numbers = {1, 2, 2, 3, 4}\n",
        "print(\"Unique numbers:\", unique_numbers)\n",
        "\n",
        "# Dictionaries\n",
        "student = {\"name\": \"John\", \"age\": 20}\n",
        "print(\"Student:\", student)\n"
      ],
      "metadata": {
        "id": "1AuIuVoW-nrG"
      },
      "execution_count": null,
      "outputs": []
    },
    {
      "cell_type": "code",
      "source": [
        "# 5. String Manupulation\n",
        "# String methods\n",
        "text = \"Hello, World!\"\n",
        "print(text.upper())\n",
        "print(text.lower())\n",
        "print(text.split(\", \"))\n",
        "print(\" - \".join([\"Hello\", \"World\"]))\n",
        "\n",
        "# String formatting\n",
        "name = \"Alice\"\n",
        "age = 30\n",
        "print(f\"My name is {name} and I am {age} years old.\")\n",
        "print(\"My name is {} and I am {} years old.\".format(name, age))\n"
      ],
      "metadata": {
        "id": "Yqo7NNvP-zGM"
      },
      "execution_count": null,
      "outputs": []
    },
    {
      "cell_type": "code",
      "source": [
        "# 6. File I/O\n",
        "# Writing to a file\n",
        "with open(\"example.txt\", \"w\") as file:\n",
        "    file.write(\"Hello, World!\\nThis is a file example.\")\n",
        "\n",
        "# Reading from a file\n",
        "with open(\"example.txt\", \"r\") as file:\n",
        "    content = file.read()\n",
        "    print(content)\n"
      ],
      "metadata": {
        "id": "4BAGFtFh-4Qt"
      },
      "execution_count": null,
      "outputs": []
    },
    {
      "cell_type": "code",
      "source": [
        "# Intermediate Concepts\n",
        "# 1. Modules and Packages\n",
        "# Importing a standard library module\n",
        "import math\n",
        "\n",
        "# Using a function from the module\n",
        "print(\"Square root of 16 is\", math.sqrt(16))\n"
      ],
      "metadata": {
        "id": "p0ILryoi_Src"
      },
      "execution_count": null,
      "outputs": []
    },
    {
      "cell_type": "code",
      "source": [
        "# 2. Error Handling\n",
        "# Using try-except\n",
        "try:\n",
        "    result = 10 / 0\n",
        "except ZeroDivisionError:\n",
        "    print(\"Cannot divide by zero!\")\n",
        "finally:\n",
        "    print(\"This is executed no matter what.\")\n",
        "\n",
        "# Raising exceptions\n",
        "def check_positive(number):\n",
        "    if number < 0:\n",
        "        raise ValueError(\"The number must be positive.\")\n",
        "    return number\n",
        "\n",
        "try:\n",
        "    print(check_positive(-5))\n",
        "except ValueError as e:\n",
        "    print(e)\n"
      ],
      "metadata": {
        "id": "F9lU1HLV_i4w"
      },
      "execution_count": null,
      "outputs": []
    },
    {
      "cell_type": "code",
      "source": [
        "# 3. Object-Oriented Programming (OOP)\n",
        "# Defining a class\n",
        "class Dog:\n",
        "    def __init__(self, name, age):\n",
        "        self.name = name\n",
        "        self.age = age\n",
        "\n",
        "    def bark(self):\n",
        "        return f\"{self.name} says woof!\"\n",
        "\n",
        "# Creating an object\n",
        "my_dog = Dog(\"Buddy\", 3)\n",
        "print(my_dog.bark())\n",
        "print(f\"My dog is {my_dog.age} years old.\")\n",
        "\n",
        "class Labrador(Dog):\n",
        "    def __init__(self, name, age, breed):\n",
        "        super().__init__(name, age)\n",
        "        self.breed = breed\n",
        "\n",
        "    def bark(self):\n",
        "        return f\"{self.name} says meow!\"\n",
        "\n",
        "my_labrador = Labrador(\"George\", 5, \"Labrador Retriever\")\n",
        "print(my_labrador.bark())\n",
        "print(f\"My Labrador is {my_labrador.age} years old.\")\n",
        "\n"
      ],
      "metadata": {
        "id": "xgwIeOsJ_neh",
        "colab": {
          "base_uri": "https://localhost:8080/"
        },
        "outputId": "ebc6eda8-60d6-401e-8942-0a66aa658576"
      },
      "execution_count": 21,
      "outputs": [
        {
          "output_type": "stream",
          "name": "stdout",
          "text": [
            "Buddy says woof!\n",
            "My dog is 3 years old.\n",
            "George says meow!\n",
            "My Labrador is 5 years old.\n"
          ]
        }
      ]
    },
    {
      "cell_type": "code",
      "source": [
        "# 4. Working with External Libraries\n",
        "# Installing a package using pip\n",
        "!pip install requests\n",
        "\n",
        "# Using the requests library\n",
        "import requests\n",
        "\n",
        "response = requests.get(\"https://api.github.com\")\n",
        "print(\"Response status code:\", response.status_code)\n",
        "print(\"Response JSON content:\", response.json())\n"
      ],
      "metadata": {
        "id": "Gnuh6qyt_3NW"
      },
      "execution_count": null,
      "outputs": []
    },
    {
      "cell_type": "code",
      "source": [
        "# 5. Decorators and Context Managers\n",
        "# Creating a decorator\n",
        "def my_decorator(func):\n",
        "    def wrapper():\n",
        "        print(\"Something is happening before the function is called.\")\n",
        "        func()\n",
        "        print(\"Something is happening after the function is called.\")\n",
        "    return wrapper\n",
        "\n",
        "@my_decorator\n",
        "def say_hello():\n",
        "    print(\"Hello!\")\n",
        "\n",
        "say_hello()\n",
        "\n",
        "# Using context managers\n",
        "with open(\"example.txt\", \"r\") as file:\n",
        "    content = file.read()\n",
        "    print(content)\n"
      ],
      "metadata": {
        "id": "l2e_j3US_9nR"
      },
      "execution_count": null,
      "outputs": []
    },
    {
      "cell_type": "code",
      "source": [
        "# 6. Generators and Iterators\n",
        "# Creating a generator\n",
        "def simple_generator():\n",
        "    yield 1\n",
        "    yield 2\n",
        "    yield 3\n",
        "\n",
        "# Using a generator\n",
        "for value in simple_generator():\n",
        "    print(value)\n",
        "\n",
        "# Creating an iterator\n",
        "class MyIterator:\n",
        "    def __init__(self, start, end):\n",
        "        self.current = start\n",
        "        self.end = end\n",
        "\n",
        "    def __iter__(self):\n",
        "        return self\n",
        "\n",
        "    def __next__(self):\n",
        "        if self.current >= self.end:\n",
        "            raise StopIteration\n",
        "        current = self.current\n",
        "        self.current += 1\n",
        "        return current\n",
        "\n",
        "my_iterator = MyIterator(1, 4)\n",
        "for value in my_iterator:\n",
        "    print(value)\n"
      ],
      "metadata": {
        "id": "P0_36nrfAFS0"
      },
      "execution_count": null,
      "outputs": []
    },
    {
      "cell_type": "code",
      "source": [
        "# 7. Comprehensions and Generator Expressions\n",
        "# Advanced list comprehensions\n",
        "squares = [x**2 for x in range(10) if x % 2 == 0]\n",
        "print(\"Even squares:\", squares)\n",
        "\n",
        "# Dictionary comprehensions\n",
        "square_dict = {x: x**2 for x in range(5)}\n",
        "print(\"Square dictionary:\", square_dict)\n",
        "\n",
        "# Generator expressions\n",
        "even_numbers = (x for x in range(10) if x % 2 == 0)\n",
        "for number in even_numbers:\n",
        "    print(number)\n"
      ],
      "metadata": {
        "id": "4kh01-LzAKDT"
      },
      "execution_count": null,
      "outputs": []
    },
    {
      "cell_type": "code",
      "source": [
        "# 8. Data Handling and Manipulation\n",
        "# Using pandas for data analysis\n",
        "import pandas as pd\n",
        "\n",
        "data = {'Name': ['Alice', 'Bob', 'Charlie'],\n",
        "        'Age': [24, 27, 22],\n",
        "        'City': ['New York', 'Los Angeles', 'Chicago']}\n",
        "df = pd.DataFrame(data)\n",
        "print(df)\n",
        "\n",
        "# Basic operations with numpy\n",
        "import numpy as np\n",
        "\n",
        "array = np.array([1, 2, 3, 4, 5])\n",
        "print(\"Array:\", array)\n",
        "print(\"Mean:\", np.mean(array))\n",
        "\n",
        "# Data visualization with matplotlib\n",
        "import matplotlib.pyplot as plt\n",
        "\n",
        "x = [1, 2, 3, 4, 5]\n",
        "y = [1, 4, 9, 16, 25]\n",
        "plt.plot(x, y)\n",
        "plt.xlabel('x-axis')\n",
        "plt.ylabel('y-axis')\n",
        "plt.title('Simple Plot')\n",
        "plt.show()\n"
      ],
      "metadata": {
        "id": "y9mvmnGjAiDt"
      },
      "execution_count": null,
      "outputs": []
    },
    {
      "cell_type": "code",
      "source": [
        "# 9. Regular Expressions\n",
        "import re\n",
        "\n",
        "# Matching patterns\n",
        "pattern = r\"\\d+\"\n",
        "text = \"There are 123 apples and 45 oranges.\"\n",
        "matches = re.findall(pattern, text)\n",
        "print(\"Matches:\", matches)\n",
        "\n",
        "# Replacing patterns\n",
        "new_text = re.sub(pattern, \"#\", text)\n",
        "print(\"Modified text:\", new_text)\n"
      ],
      "metadata": {
        "id": "bKpe3ApsAnDU"
      },
      "execution_count": null,
      "outputs": []
    },
    {
      "cell_type": "code",
      "source": [
        "# 10. Web Scraping\n",
        "# Web scraping with BeautifulSoup\n",
        "!pip install beautifulsoup4\n",
        "\n",
        "import requests\n",
        "from bs4 import BeautifulSoup\n",
        "\n",
        "url = \"https://example.com\"\n",
        "response = requests.get(url)\n",
        "soup = BeautifulSoup(response.text, 'html.parser')\n",
        "\n",
        "# Extracting and printing the title\n",
        "title = soup.find('title').text\n",
        "print(\"Title of the page:\", title)\n"
      ],
      "metadata": {
        "id": "Qti8Yg93Ar4u"
      },
      "execution_count": null,
      "outputs": []
    },
    {
      "cell_type": "code",
      "source": [
        "# Additional Topics\n",
        "# 1. Working with APIs\n",
        "# Making API requests\n",
        "response = requests.get(\"https://jsonplaceholder.typicode.com/posts\")\n",
        "data = response.json()\n",
        "print(\"First post title:\", data[0]['title'])\n"
      ],
      "metadata": {
        "id": "4okqUKBQBgha"
      },
      "execution_count": null,
      "outputs": []
    },
    {
      "cell_type": "code",
      "source": [
        "# 2. Basic Database Interaction\n",
        "import sqlite3\n",
        "\n",
        "# Connecting to SQLite database\n",
        "conn = sqlite3.connect('example.db')\n",
        "c = conn.cursor()\n",
        "\n",
        "# Creating a table\n",
        "c.execute('''CREATE TABLE IF NOT EXISTS students\n",
        "             (id INTEGER PRIMARY KEY, name TEXT, age INTEGER)''')\n",
        "\n",
        "# Inserting a row of data\n",
        "c.execute(\"INSERT INTO students (name, age) VALUES ('John', 21)\")\n",
        "conn.commit()\n",
        "\n",
        "# Querying data\n",
        "c.execute(\"SELECT * FROM students\")\n",
        "rows = c.fetchall()\n",
        "for row in rows:\n",
        "    print(row)\n",
        "\n",
        "# Closing the connection\n",
        "conn.close()\n"
      ],
      "metadata": {
        "id": "TbKoXRDfBjk9"
      },
      "execution_count": null,
      "outputs": []
    },
    {
      "cell_type": "code",
      "source": [
        "# 3. Introduction to Testing\n",
        "import unittest\n",
        "\n",
        "# Function to be tested\n",
        "def add(a, b):\n",
        "    return a + b\n",
        "\n",
        "# Test case\n",
        "class TestAdd(unittest.TestCase):\n",
        "    def test_add(self):\n",
        "        self.assertEqual(add(2, 3), 5)\n",
        "        self.assertEqual(add(-1, 1), 0)\n",
        "\n",
        "# Running the tests\n",
        "if __name__ == '__main__':\n",
        "    unittest.main(argv=[''], verbosity=2, exit=False)\n"
      ],
      "metadata": {
        "id": "VCojQAIuBsUB"
      },
      "execution_count": null,
      "outputs": []
    },
    {
      "cell_type": "code",
      "source": [
        "# 4. Basic Networking\n",
        "# import socket\n",
        "\n",
        "# # Creating a socket\n",
        "# s = socket.socket(socket.AF_INET, socket.SOCK_STREAM)\n",
        "# s.bind(('localhost', 12345))\n",
        "# s.listen(1)\n",
        "\n",
        "# print(\"Waiting for a connection...\")\n",
        "# conn, addr = s.accept()\n",
        "# print(\"Connected by\", addr)\n",
        "# conn.close()\n",
        "# s.close()\n"
      ],
      "metadata": {
        "id": "QPokLiEXBxb0"
      },
      "execution_count": null,
      "outputs": []
    },
    {
      "cell_type": "code",
      "source": [
        "# # 5. Concurrency\n",
        "# import concurrent.futures\n",
        "# import time\n",
        "\n",
        "# # Function to be executed in parallel\n",
        "# def sleep_and_print(seconds):\n",
        "#     time.sleep(seconds)\n",
        "#     return f\"Finished sleeping for {seconds} seconds\"\n",
        "\n",
        "# # Using ThreadPoolExecutor\n",
        "# with concurrent.futures.ThreadPoolExecutor() as executor:\n",
        "#     futures = [executor.submit(sleep_and_print, sec) for sec in [1, 2, 3]]\n",
        "#     for future in concurrent.futures.as_completed(futures):\n",
        "#         print(future.result())\n"
      ],
      "metadata": {
        "id": "CX5XtQstB4VM"
      },
      "execution_count": null,
      "outputs": []
    },
    {
      "cell_type": "code",
      "source": [
        "# Advanced Topics\n",
        "# Sorting Algorithms\n",
        "def bubble_sort(arr):\n",
        "    \"\"\"\n",
        "    Bubble Sort Algorithm\n",
        "    Time Complexity: O(n^2)\n",
        "    Space Complexity: O(1)\n",
        "    \"\"\"\n",
        "    n = len(arr)\n",
        "    for i in range(n):\n",
        "        # Last i elements are already sorted\n",
        "        for j in range(0, n-i-1):\n",
        "            if arr[j] > arr[j+1]:\n",
        "                arr[j], arr[j+1] = arr[j+1], arr[j]\n",
        "\n",
        "# Example\n",
        "arr = [64, 34, 25, 12, 22, 11, 90]\n",
        "bubble_sort(arr)\n",
        "print(\"Sorted array is:\", arr)\n"
      ],
      "metadata": {
        "id": "xM9xKBlIB8i0",
        "colab": {
          "base_uri": "https://localhost:8080/"
        },
        "outputId": "53409285-5048-47bd-b1a0-cd0d5b7cb7c8"
      },
      "execution_count": 1,
      "outputs": [
        {
          "output_type": "stream",
          "name": "stdout",
          "text": [
            "Sorted array is: [11, 12, 22, 25, 34, 64, 90]\n"
          ]
        }
      ]
    },
    {
      "cell_type": "code",
      "source": [
        "def merge_sort(arr):\n",
        "    \"\"\"\n",
        "    Merge Sort Algorithm\n",
        "    Time Complexity: O(n log n)\n",
        "    Space Complexity: O(n)\n",
        "    \"\"\"\n",
        "    if len(arr) > 1:\n",
        "        mid = len(arr) // 2\n",
        "        L = arr[:mid]\n",
        "        R = arr[mid:]\n",
        "\n",
        "        merge_sort(L)\n",
        "        merge_sort(R)\n",
        "\n",
        "        i = j = k = 0\n",
        "        while i < len(L) and j < len(R):\n",
        "            if L[i] < R[j]:\n",
        "                arr[k] = L[i]\n",
        "                i += 1\n",
        "            else:\n",
        "                arr[k] = R[j]\n",
        "                j += 1\n",
        "            k += 1\n",
        "\n",
        "        while i < len(L):\n",
        "            arr[k] = L[i]\n",
        "            i += 1\n",
        "            k += 1\n",
        "\n",
        "        while j < len(R):\n",
        "            arr[k] = R[j]\n",
        "            j += 1\n",
        "            k += 1\n",
        "\n",
        "# Example\n",
        "arr = [12, 11, 13, 5, 6, 7]\n",
        "merge_sort(arr)\n",
        "print(\"Sorted array is:\", arr)\n"
      ],
      "metadata": {
        "colab": {
          "base_uri": "https://localhost:8080/"
        },
        "id": "JL77nDUuuDA4",
        "outputId": "267b02e1-60ef-43f6-c0ee-081a6e2cf5cb"
      },
      "execution_count": 4,
      "outputs": [
        {
          "output_type": "stream",
          "name": "stdout",
          "text": [
            "Sorted array is: [5, 6, 7, 11, 12, 13]\n"
          ]
        }
      ]
    },
    {
      "cell_type": "code",
      "source": [
        "def quick_sort(arr):\n",
        "    \"\"\"\n",
        "    Quick Sort Algorithm\n",
        "    Time Complexity: O(n log n) on average, O(n^2) in the worst case\n",
        "    Space Complexity: O(log n)\n",
        "    \"\"\"\n",
        "    if len(arr) <= 1:\n",
        "        return arr\n",
        "    else:\n",
        "        pivot = arr[len(arr) // 2]\n",
        "        left = [x for x in arr if x < pivot]\n",
        "        middle = [x for x in arr if x == pivot]\n",
        "        right = [x for x in arr if x > pivot]\n",
        "        return quick_sort(left) + middle + quick_sort(right)\n",
        "\n",
        "# Example\n",
        "arr = [10, 7, 8, 9, 1, 5]\n",
        "sorted_arr = quick_sort(arr)\n",
        "print(\"Sorted array is:\", sorted_arr)\n"
      ],
      "metadata": {
        "colab": {
          "base_uri": "https://localhost:8080/"
        },
        "id": "AgDbPqNzuQnR",
        "outputId": "1fab8865-9f7a-4829-d035-e00f45cdba3f"
      },
      "execution_count": 5,
      "outputs": [
        {
          "output_type": "stream",
          "name": "stdout",
          "text": [
            "Sorted array is: [1, 5, 7, 8, 9, 10]\n"
          ]
        }
      ]
    },
    {
      "cell_type": "code",
      "source": [
        "# Function to time the sorting algorithms\n",
        "import time\n",
        "import random\n",
        "\n",
        "def time_sorting_algorithm(sort_function, arr):\n",
        "    start_time = time.time()\n",
        "    sorted_arr = sort_function(arr) if sort_function == quick_sort else sort_function(arr)\n",
        "    end_time = time.time()\n",
        "    return end_time - start_time\n",
        "\n",
        "# Generate a random list of integers\n",
        "array_size = 10000\n",
        "random_list = random.sample(range(array_size * 10), array_size)\n",
        "\n",
        "# Copy the random list for each sorting algorithm\n",
        "list_for_bubble_sort = random_list[:]\n",
        "list_for_merge_sort = random_list[:]\n",
        "list_for_quick_sort = random_list[:]\n",
        "\n",
        "# Time Bubble Sort\n",
        "bubble_sort_time = time_sorting_algorithm(bubble_sort, list_for_bubble_sort)\n",
        "print(f\"Bubble Sort took {bubble_sort_time:.6f} seconds.\")\n",
        "\n",
        "# Time Merge Sort\n",
        "merge_sort_time = time_sorting_algorithm(merge_sort, list_for_merge_sort)\n",
        "merge_over_bubble = bubble_sort_time/merge_sort_time\n",
        "print(f\"Merge Sort took {merge_sort_time:.6f} seconds, which is {merge_over_bubble:.6f} times faster than Bubble Sort!\")\n",
        "\n",
        "# Time Quick Sort\n",
        "quick_sort_time = time_sorting_algorithm(quick_sort, list_for_quick_sort)\n",
        "quick_over_merge = merge_sort_time/quick_sort_time\n",
        "print(f\"Quick Sort took {quick_sort_time:.6f} seconds, which is {quick_over_merge:.6f} times faster than Merge Sort!\")"
      ],
      "metadata": {
        "colab": {
          "base_uri": "https://localhost:8080/"
        },
        "id": "tWIN-GlEvAUy",
        "outputId": "663ef71b-14f6-4fc2-e27d-8ab76c0b6c20"
      },
      "execution_count": 13,
      "outputs": [
        {
          "output_type": "stream",
          "name": "stdout",
          "text": [
            "Bubble Sort took 11.355667 seconds.\n",
            "Merge Sort took 0.045474 seconds, which is 249.720128 times faster than Bubble Sort!\n",
            "Quick Sort took 0.035217 seconds, which is 1.291255 times faster than Merge Sort!\n"
          ]
        }
      ]
    },
    {
      "cell_type": "code",
      "source": [
        "# Data Structures\n",
        "# Arrays in Python are implemented using lists\n",
        "# Example: Create an array and perform basic operations\n",
        "\n",
        "arr = [1, 2, 3, 4, 5]\n",
        "\n",
        "# Access element\n",
        "# Time Complexity: O(1)\n",
        "element = arr[2]\n",
        "print(\"Accessed Element:\", element)\n",
        "\n",
        "# Insert element\n",
        "# Time Complexity: O(n) in the worst case (due to shifting elements)\n",
        "arr.insert(2, 6)\n",
        "print(\"Array after Insertion:\", arr)\n",
        "\n",
        "# Delete element\n",
        "# Time Complexity: O(n) in the worst case (due to shifting elements)\n",
        "arr.pop(2)\n",
        "print(\"Array after Deletion:\", arr)\n",
        "\n",
        "# Search element\n",
        "# Time Complexity: O(n)\n",
        "index = arr.index(3)\n",
        "print(\"Index of Element 3:\", index)\n"
      ],
      "metadata": {
        "colab": {
          "base_uri": "https://localhost:8080/"
        },
        "id": "PlYIF3mD3TVI",
        "outputId": "271df374-607f-456e-faa1-bf4941490684"
      },
      "execution_count": 14,
      "outputs": [
        {
          "output_type": "stream",
          "name": "stdout",
          "text": [
            "Accessed Element: 3\n",
            "Array after Insertion: [1, 2, 6, 3, 4, 5]\n",
            "Array after Deletion: [1, 2, 3, 4, 5]\n",
            "Index of Element 3: 2\n"
          ]
        }
      ]
    },
    {
      "cell_type": "code",
      "source": [
        "# Linked Lists\n",
        "class Node:\n",
        "    def __init__(self, data):\n",
        "        self.data = data\n",
        "        self.next = None\n",
        "\n",
        "class LinkedList:\n",
        "    def __init__(self):\n",
        "        self.head = None\n",
        "\n",
        "    # Insert at the beginning\n",
        "    # Time Complexity: O(1)\n",
        "    def insert_at_beginning(self, data):\n",
        "        new_node = Node(data)\n",
        "        new_node.next = self.head\n",
        "        self.head = new_node\n",
        "\n",
        "    # Insert at the end\n",
        "    # Time Complexity: O(n)\n",
        "    def insert_at_end(self, data):\n",
        "        new_node = Node(data)\n",
        "        if not self.head:\n",
        "            self.head = new_node\n",
        "            return\n",
        "        last = self.head\n",
        "        while last.next:\n",
        "            last = last.next\n",
        "        last.next = new_node\n",
        "\n",
        "    # Delete a node\n",
        "    # Time Complexity: O(n)\n",
        "    def delete_node(self, key):\n",
        "        temp = self.head\n",
        "        if temp and temp.data == key:\n",
        "            self.head = temp.next\n",
        "            temp = None\n",
        "            return\n",
        "        prev = None\n",
        "        while temp and temp.data != key:\n",
        "            prev = temp\n",
        "            temp = temp.next\n",
        "        if temp is None:\n",
        "            return\n",
        "        prev.next = temp.next\n",
        "        temp = None\n",
        "\n",
        "    # Search for a node\n",
        "    # Time Complexity: O(n)\n",
        "    def search(self, key):\n",
        "        temp = self.head\n",
        "        while temp:\n",
        "            if temp.data == key:\n",
        "                return True\n",
        "            temp = temp.next\n",
        "        return False\n",
        "\n",
        "    # Display the linked list\n",
        "    # Time Complexity: O(n)\n",
        "    def display(self):\n",
        "        temp = self.head\n",
        "        while temp:\n",
        "            print(temp.data, end=\" -> \")\n",
        "            temp = temp.next\n",
        "        print(\"None\")\n",
        "\n",
        "# Example\n",
        "ll = LinkedList()\n",
        "ll.insert_at_beginning(1)\n",
        "ll.insert_at_end(2)\n",
        "ll.insert_at_end(3)\n",
        "ll.insert_at_beginning(0)\n",
        "ll.display()\n",
        "ll.delete_node(2)\n",
        "ll.display()\n",
        "print(\"Search 3:\", ll.search(3))\n"
      ],
      "metadata": {
        "colab": {
          "base_uri": "https://localhost:8080/"
        },
        "id": "r5m6XbmC35G5",
        "outputId": "77464e23-8d71-4b30-d0e0-fa0b58fc758a"
      },
      "execution_count": 15,
      "outputs": [
        {
          "output_type": "stream",
          "name": "stdout",
          "text": [
            "0 -> 1 -> 2 -> 3 -> None\n",
            "0 -> 1 -> 3 -> None\n",
            "Search 3: True\n"
          ]
        }
      ]
    },
    {
      "cell_type": "code",
      "source": [
        "# Stacks\n",
        "class Stack:\n",
        "    def __init__(self):\n",
        "        self.stack = []\n",
        "\n",
        "    # Push element onto stack\n",
        "    # Time Complexity: O(1)\n",
        "    def push(self, data):\n",
        "        self.stack.append(data)\n",
        "\n",
        "    # Pop element from stack\n",
        "    # Time Complexity: O(1)\n",
        "    def pop(self):\n",
        "        if not self.is_empty():\n",
        "            return self.stack.pop()\n",
        "        return \"Stack is empty\"\n",
        "\n",
        "    # Peek at the top element of the stack\n",
        "    # Time Complexity: O(1)\n",
        "    def peek(self):\n",
        "        if not self.is_empty():\n",
        "            return self.stack[-1]\n",
        "        return \"Stack is empty\"\n",
        "\n",
        "    # Check if stack is empty\n",
        "    # Time Complexity: O(1)\n",
        "    def is_empty(self):\n",
        "        return len(self.stack) == 0\n",
        "\n",
        "    # Display the stack\n",
        "    # Time Complexity: O(n)\n",
        "    def display(self):\n",
        "        print(self.stack)\n",
        "\n",
        "# Example\n",
        "stack = Stack()\n",
        "stack.push(1)\n",
        "stack.push(2)\n",
        "stack.push(3)\n",
        "stack.display()\n",
        "print(\"Popped Element:\", stack.pop())\n",
        "stack.display()\n",
        "print(\"Top Element:\", stack.peek())\n"
      ],
      "metadata": {
        "colab": {
          "base_uri": "https://localhost:8080/"
        },
        "id": "lKpWggoR4JbB",
        "outputId": "6647ca83-f9c8-4518-c99b-9db7aeeeadc5"
      },
      "execution_count": 16,
      "outputs": [
        {
          "output_type": "stream",
          "name": "stdout",
          "text": [
            "[1, 2, 3]\n",
            "Popped Element: 3\n",
            "[1, 2]\n",
            "Top Element: 2\n"
          ]
        }
      ]
    },
    {
      "cell_type": "code",
      "source": [
        "# Queues\n",
        "class Queue:\n",
        "    def __init__(self):\n",
        "        self.queue = []\n",
        "\n",
        "    # Enqueue element to queue\n",
        "    # Time Complexity: O(1)\n",
        "    def enqueue(self, data):\n",
        "        self.queue.append(data)\n",
        "\n",
        "    # Dequeue element from queue\n",
        "    # Time Complexity: O(1)\n",
        "    def dequeue(self):\n",
        "        if not self.is_empty():\n",
        "            return self.queue.pop(0)\n",
        "        return \"Queue is empty\"\n",
        "\n",
        "    # Peek at the front element of the queue\n",
        "    # Time Complexity: O(1)\n",
        "    def peek(self):\n",
        "        if not self.is_empty():\n",
        "            return self.queue[0]\n",
        "        return \"Queue is empty\"\n",
        "\n",
        "    # Check if queue is empty\n",
        "    # Time Complexity: O(1)\n",
        "    def is_empty(self):\n",
        "        return len(self.queue) == 0\n",
        "\n",
        "    # Display the queue\n",
        "    # Time Complexity: O(n)\n",
        "    def display(self):\n",
        "        print(self.queue)\n",
        "\n",
        "# Example\n",
        "queue = Queue()\n",
        "queue.enqueue(1)\n",
        "queue.enqueue(2)\n",
        "queue.enqueue(3)\n",
        "queue.display()\n",
        "print(\"Dequeued Element:\", queue.dequeue())\n",
        "queue.display()\n",
        "print(\"Front Element:\", queue.peek())\n"
      ],
      "metadata": {
        "colab": {
          "base_uri": "https://localhost:8080/"
        },
        "id": "wbKD4t5G4U15",
        "outputId": "146c4f08-95a5-4570-9458-5f7af74ce8a9"
      },
      "execution_count": 17,
      "outputs": [
        {
          "output_type": "stream",
          "name": "stdout",
          "text": [
            "[1, 2, 3]\n",
            "Dequeued Element: 1\n",
            "[2, 3]\n",
            "Front Element: 2\n"
          ]
        }
      ]
    },
    {
      "cell_type": "code",
      "source": [
        "# Binary Search Trees\n",
        "class TreeNode:\n",
        "    def __init__(self, key):\n",
        "        self.left = None\n",
        "        self.right = None\n",
        "        self.val = key\n",
        "\n",
        "class BST:\n",
        "    def __init__(self):\n",
        "        self.root = None\n",
        "\n",
        "    # Insert a node\n",
        "    # Time Complexity: O(log n) on average, O(n) in the worst case\n",
        "    def insert(self, root, key):\n",
        "        if root is None:\n",
        "            return TreeNode(key)\n",
        "        else:\n",
        "            if root.val < key:\n",
        "                root.right = self.insert(root.right, key)\n",
        "            else:\n",
        "                root.left = self.insert(root.left, key)\n",
        "        return root\n",
        "\n",
        "    # Search for a node\n",
        "    # Time Complexity: O(log n) on average, O(n) in the worst case\n",
        "    def search(self, root, key):\n",
        "        if root is None or root.val == key:\n",
        "            return root\n",
        "        if root.val < key:\n",
        "            return self.search(root.right, key)\n",
        "        return self.search(root.left, key)\n",
        "\n",
        "    # Inorder traversal\n",
        "    # Time Complexity: O(n)\n",
        "    def inorder(self, root):\n",
        "        if root:\n",
        "            self.inorder(root.left)\n",
        "            print(root.val, end=\" \")\n",
        "            self.inorder(root.right)\n",
        "\n",
        "# Example\n",
        "bst = BST()\n",
        "root = None\n",
        "keys = [20, 8, 22, 4, 12, 10, 14]\n",
        "\n",
        "for key in keys:\n",
        "    root = bst.insert(root, key)\n",
        "\n",
        "print(\"Inorder Traversal of BST:\")\n",
        "bst.inorder(root)\n",
        "print()\n",
        "\n",
        "search_key = 10\n",
        "if bst.search(root, search_key):\n",
        "    print(f\"Element {search_key} found in BST\")\n",
        "else:\n",
        "    print(f\"Element {search_key} not found in BST\")\n"
      ],
      "metadata": {
        "colab": {
          "base_uri": "https://localhost:8080/"
        },
        "id": "fI9BOkG64imu",
        "outputId": "d6bb2eaa-a5ca-4019-80dd-65de627c0524"
      },
      "execution_count": 18,
      "outputs": [
        {
          "output_type": "stream",
          "name": "stdout",
          "text": [
            "Inorder Traversal of BST:\n",
            "4 8 10 12 14 20 22 \n",
            "Element 10 found in BST\n"
          ]
        }
      ]
    },
    {
      "cell_type": "markdown",
      "source": [
        "Arrays: Simple to use with O(1) access time but insertion and deletion can be expensive due to shifting elements.\n",
        "\n",
        "Linked Lists: Efficient for insertions and deletions (O(1) at the beginning) but O(n) for access and search.\n",
        "\n",
        "Stacks: LIFO structure with O(1) push and pop operations.\n",
        "\n",
        "Queues: FIFO structure with O(1) enqueue and dequeue operations.\n",
        "\n",
        "BST: Provides efficient search, insertion, and deletion operations (O(log n) on average)."
      ],
      "metadata": {
        "id": "5F10jzNF41_l"
      }
    },
    {
      "cell_type": "markdown",
      "source": [],
      "metadata": {
        "id": "_4bo9N7u_cv1"
      }
    }
  ]
}